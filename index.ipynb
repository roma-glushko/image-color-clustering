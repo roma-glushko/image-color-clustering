{
 "metadata": {
  "language_info": {
   "codemirror_mode": {
    "name": "ipython",
    "version": 3
   },
   "file_extension": ".py",
   "mimetype": "text/x-python",
   "name": "python",
   "nbconvert_exporter": "python",
   "pygments_lexer": "ipython3",
   "version": "3.8.4-final"
  },
  "orig_nbformat": 2,
  "kernelspec": {
   "name": "python38464bitvenvvenv4b16a258f0a54738ab16a17586d3fb74",
   "display_name": "Python 3.8.4 64-bit ('venv': venv)"
  }
 },
 "nbformat": 4,
 "nbformat_minor": 2,
 "cells": [
  {
   "cell_type": "code",
   "execution_count": 10,
   "metadata": {},
   "outputs": [],
   "source": [
    "from PIL import Image\n",
    "import numpy as np\n",
    "from sklearn.cluster import KMeans"
   ]
  },
  {
   "cell_type": "code",
   "execution_count": 56,
   "metadata": {
    "tags": []
   },
   "outputs": [
    {
     "output_type": "stream",
     "name": "stdout",
     "text": "[[[215 219 222]\n  [214 218 221]\n  [214 218 221]\n  ...\n  [220 223 228]\n  [218 221 226]\n  [217 220 225]]\n\n [[215 219 222]\n  [214 218 221]\n  [214 218 221]\n  ...\n  [218 221 226]\n  [218 221 226]\n  [218 221 226]]\n\n [[215 219 222]\n  [214 218 221]\n  [213 217 220]\n  ...\n  [217 220 225]\n  [218 221 226]\n  [218 221 226]]\n\n ...\n\n [[178 159 152]\n  [166 147 140]\n  [156 139 131]\n  ...\n  [106 104  91]\n  [ 80  78  65]\n  [ 61  59  46]]\n\n [[188 168 161]\n  [184 165 158]\n  [179 161 151]\n  ...\n  [ 99  97  84]\n  [ 88  86  73]\n  [ 75  73  60]]\n\n [[163 143 134]\n  [171 151 142]\n  [173 155 145]\n  ...\n  [103 101  88]\n  [ 97  95  82]\n  [103 101  88]]]\n"
    }
   ],
   "source": [
    "clusterCount = 48\n",
    "imageName = 'image13-small'\n",
    "\n",
    "image = Image.open('images/' + imageName + '.jpg')\n",
    "imageArray = np.asarray(image)\n",
    "\n",
    "imageHeight = imageArray.shape[0]\n",
    "imageWidth = imageArray.shape[1]\n",
    "\n",
    "print(imageArray)"
   ]
  },
  {
   "cell_type": "code",
   "execution_count": 57,
   "metadata": {},
   "outputs": [
    {
     "output_type": "execute_result",
     "data": {
      "text/plain": "(1635840, 3)"
     },
     "metadata": {},
     "execution_count": 57
    }
   ],
   "source": [
    "originalArrayShape = np.array([imageHeight, imageWidth, 3])\n",
    "flatArrayShape = np.array([imageHeight * imageWidth, 3])\n",
    "imageFlatArray = np.reshape(imageArray, flatArrayShape)\n",
    "\n",
    "imageFlatArray.shape"
   ]
  },
  {
   "cell_type": "code",
   "execution_count": 58,
   "metadata": {},
   "outputs": [],
   "source": [
    "kmeanModel = KMeans(n_clusters=clusterCount, n_jobs=4).fit(imageFlatArray)"
   ]
  },
  {
   "cell_type": "code",
   "execution_count": 59,
   "metadata": {},
   "outputs": [
    {
     "output_type": "execute_result",
     "data": {
      "text/plain": "array([ 6,  6,  6, ..., 13, 13, 13], dtype=int32)"
     },
     "metadata": {},
     "execution_count": 59
    }
   ],
   "source": [
    "clusteredImageArray = kmeanModel.predict(imageFlatArray)\n",
    "\n",
    "clusteredImageArray"
   ]
  },
  {
   "cell_type": "code",
   "execution_count": 60,
   "metadata": {},
   "outputs": [
    {
     "output_type": "execute_result",
     "data": {
      "text/plain": "array([[119.71527685, 119.50860574, 111.53879253],\n       [202.29851811, 203.20134321, 206.02941992],\n       [ 63.82516697,  40.6558895 ,  28.33533698],\n       [ 25.03489373,  23.92893794,  27.56388831],\n       [181.48984881, 152.46973842, 127.17293017],\n       [ 84.45815264,  84.32970188,  76.57670631],\n       [217.53008847, 219.35219595, 223.24379309],\n       [103.59991905,  92.23557704,  65.31765042],\n       [136.65264285, 122.53285561, 102.42773243],\n       [ 48.56588691,  52.0527653 ,  59.91442293],\n       [173.16038614, 171.53750872, 168.26988835],\n       [ 41.00285182,  42.84482312,  45.98957081],\n       [ 83.60786773,  54.45579628,  38.58031167],\n       [ 95.55098354,  94.7492774 ,  85.01132075],\n       [ 65.48265152,  67.59367671,  57.09036167],\n       [160.00791271, 144.29547726, 125.14009662],\n       [ 90.55064077,  81.2896816 ,  57.28941736],\n       [210.53141927, 213.24184515, 216.57076118],\n       [132.96983943,  90.84500217,  66.21083466],\n       [ 44.12591484,  28.25357094,  20.44086519],\n       [ 18.35834304,  15.83345551,  17.45092205],\n       [107.52006079,  69.44620061,  49.52869301],\n       [189.58086609, 189.74846861, 191.67134592],\n       [207.18722419, 175.90086075, 151.67278368],\n       [173.02743109, 130.81919509, 106.41774011],\n       [149.36544395, 132.75642784, 111.0763627 ],\n       [ 32.1845867 ,  32.91975692,  37.28133416],\n       [156.72639192, 154.33187773, 147.32828421],\n       [126.00735627, 111.65612268,  89.70348574],\n       [114.37784311, 101.74007751,  77.52021916],\n       [195.12459762, 164.49212413, 140.07086141],\n       [136.0397238 , 135.70556288, 128.38719063],\n       [106.70043307, 106.29874434,  96.98998379],\n       [ 54.92697612,  59.0547713 ,  49.07094911],\n       [154.96194192, 113.72387105,  85.62645516],\n       [ 75.23583666,  75.16986425,  66.78404675]])"
     },
     "metadata": {},
     "execution_count": 60
    }
   ],
   "source": [
    "kmeanModel.cluster_centers_"
   ]
  },
  {
   "cell_type": "code",
   "execution_count": 61,
   "metadata": {},
   "outputs": [],
   "source": [
    "encodedImageFlatArray = np.zeros(flatArrayShape)"
   ]
  },
  {
   "cell_type": "code",
   "execution_count": 62,
   "metadata": {},
   "outputs": [],
   "source": [
    "for pixelIdx in range(len(clusteredImageArray)):\n",
    "    clusterIdx = clusteredImageArray[pixelIdx]\n",
    "    encodedImageFlatArray[pixelIdx] = kmeanModel.cluster_centers_[clusterIdx]"
   ]
  },
  {
   "cell_type": "code",
   "execution_count": 63,
   "metadata": {},
   "outputs": [
    {
     "output_type": "execute_result",
     "data": {
      "text/plain": "(1280, 1278, 3)"
     },
     "metadata": {},
     "execution_count": 63
    }
   ],
   "source": [
    "encodedImageArray = np.reshape(encodedImageFlatArray, originalArrayShape)\n",
    "encodedImageArray.shape"
   ]
  },
  {
   "cell_type": "code",
   "execution_count": 64,
   "metadata": {
    "tags": []
   },
   "outputs": [],
   "source": [
    "encodedImage = Image.fromarray(encodedImageArray.astype(np.uint8))\n",
    "\n",
    "encodedImage.save('output/' + imageName + '-' + str(clusterCount) + '.jpg')"
   ]
  },
  {
   "cell_type": "code",
   "execution_count": null,
   "metadata": {},
   "outputs": [],
   "source": []
  }
 ]
}